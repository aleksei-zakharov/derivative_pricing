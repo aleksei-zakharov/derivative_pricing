{
 "cells": [
  {
   "cell_type": "markdown",
   "metadata": {},
   "source": [
    "Let's assume we calculated correlation matrix of 3 assets and the matrix is negative definite, which is a \n",
    "\n",
    "To use this correlation matrix to use Choletsky decomposition to simulated correlated random variables, we need to find the Positive Semi-Definite Matrix (PSD) that is closest to the given one."
   ]
  },
  {
   "cell_type": "code",
   "execution_count": 3,
   "metadata": {},
   "outputs": [
    {
     "name": "stdout",
     "output_type": "stream",
     "text": [
      "matrix determinant is negative -0.03999999999999994\n",
      "is matrix PSD? False\n"
     ]
    }
   ],
   "source": [
    "import numpy as np\n",
    "\n",
    "def isPSD(PSD): # is positive semi-definite?\n",
    "    eigenvalues, _ = np.linalg.eigh(PSD)\n",
    "    if np.all(eigenvalues > 0):\n",
    "        return True\n",
    "    else:\n",
    "        return False\n",
    "    \n",
    "# Example of negative-definite matrix\n",
    "M = np.array([[1, 0.5, 0.3],\n",
    "              [0.5, 1, -0.7],\n",
    "              [0.3, -0.7, 1]])\n",
    "\n",
    "print('matrix determinant is negative:', np.linalg.det(M))\n",
    "print('is matrix PSD?', isPSD(M))"
   ]
  },
  {
   "cell_type": "markdown",
   "metadata": {},
   "source": [
    "To find closest PSD matrix, we use Rebonato & Jäckel method"
   ]
  },
  {
   "cell_type": "code",
   "execution_count": 17,
   "metadata": {},
   "outputs": [
    {
     "name": "stdout",
     "output_type": "stream",
     "text": [
      "original matrix \n",
      " [[ 1.   0.5  0.3]\n",
      " [ 0.5  1.  -0.7]\n",
      " [ 0.3 -0.7  1. ]]\n",
      "------------------\n",
      "closest PSD matrix \n",
      " [[ 1.     0.491  0.293]\n",
      " [ 0.491  1.    -0.688]\n",
      " [ 0.293 -0.688  1.   ]]\n",
      "matrix determinant is positive: 0.0022\n",
      "is matrix PSD? True\n",
      "difference between matrices: \n",
      " [[ 0.    -0.009 -0.007]\n",
      " [-0.009 -0.     0.012]\n",
      " [-0.007  0.012  0.   ]]\n"
     ]
    }
   ],
   "source": [
    "def find_nearest_psd_matrix(M):\n",
    "    # Rebonato & Jäckel 1999\n",
    "    # https://papers.ssrn.com/sol3/papers.cfm?abstract_id=1969689\n",
    "    # accurate approximation to the closest matrix but not ideal (can write minimum-MSE-optimizer starting from this B * B.T solution)\n",
    "    EPSILON = 1e-3\n",
    "    n = M.shape[0]\n",
    "    eigval, eigvec = np.linalg.eig(M) # C*S = LambdaDiagMatrix * S , where S is a matrix of eigenvectors\n",
    "    val = np.matrix(np.maximum(eigval, EPSILON)) # correct eigenvalues to be positive\n",
    "    vec = np.matrix(eigvec)\n",
    "    T = 1 / (np.multiply(vec, vec) * val.T) # array to modify S matrix to have ones on the diagonal\n",
    "    T = np.matrix(np.sqrt(np.diag(np.array(T).reshape((n))))) # T*S is the new eigenvector matrix that matches new eigenvalues\n",
    "    B = T * vec * np.diag(np.array(np.sqrt(val)).reshape((n))) # B = T * S * diag(sqrt(non_neg_lambdas))\n",
    "    return B * B.T  # C_new = B * B.T\n",
    "\n",
    "psdm = find_nearest_psd_matrix(M)\n",
    "print('original matrix \\n', M)\n",
    "print('------------------')\n",
    "print('closest PSD matrix \\n', np.around(psdm, 3))\n",
    "print('matrix determinant is positive: {:.2}'.format(np.linalg.det(psdm)))\n",
    "print('is matrix PSD?', isPSD(psdm))\n",
    "print('difference between matrices: \\n', np.around(psdm - M, 3))"
   ]
  }
 ],
 "metadata": {
  "kernelspec": {
   "display_name": "base",
   "language": "python",
   "name": "python3"
  },
  "language_info": {
   "codemirror_mode": {
    "name": "ipython",
    "version": 3
   },
   "file_extension": ".py",
   "mimetype": "text/x-python",
   "name": "python",
   "nbconvert_exporter": "python",
   "pygments_lexer": "ipython3",
   "version": "3.11.5"
  }
 },
 "nbformat": 4,
 "nbformat_minor": 2
}
